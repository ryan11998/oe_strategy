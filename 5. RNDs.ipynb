{
 "cells": [
  {
   "cell_type": "markdown",
   "metadata": {},
   "source": [
    "H23 SETTLED AT: 95.77\n",
    "m = 4.14%\n",
    "u = 4.255%"
   ]
  },
  {
   "cell_type": "code",
   "execution_count": 101,
   "metadata": {},
   "outputs": [],
   "source": [
    "import math\n",
    "import numpy as np\n",
    "import matplotlib.pyplot as plt\n",
    "from scipy.stats import norm\n",
    "from scipy.stats import mvn\n",
    "from scipy.optimize import optimize, brute\n",
    "from scipy.misc import derivative as prime\n",
    "from scipy.integrate import quad\n",
    "import pandas as pd\n",
    "from datetime import datetime as dt\n",
    "import statsmodels.api as sm\n",
    "from sklearn import linear_model\n",
    "\n",
    "mpc = pd.DataFrame({'Date': ['03/23/2023', '05/11/2023', '06/22/2023', '08/03/2023', '09/21/2023', '11/02/2023', '12/14/2023']})\n",
    "mpc = pd.to_datetime(mpc['Date'])\n",
    "\n",
    "def _gbs(option_type, fs, x, t, r, b, v):\n",
    "\n",
    "    t__sqrt = math.sqrt(t)\n",
    "    d1 = (math.log(fs / x) + (b + (v * v) / 2) * t) / (v * t__sqrt)\n",
    "    d2 = d1 - v * t__sqrt\n",
    "\n",
    "    if option_type == \"c\":\n",
    "        value = fs * math.exp((b - r) * t) * norm.cdf(d1) - x * math.exp(-r * t) * norm.cdf(d2)\n",
    "        delta = math.exp((b - r) * t) * norm.cdf(d1)\n",
    "        gamma = norm.pdf(d1) / (fs * v * t__sqrt)\n",
    "        theta = -(fs * v * math.exp((b - r) * t) * norm.pdf(d1)) / (2 * t__sqrt) - (b - r) * fs * math.exp((b - r) * t) * norm.cdf(d1) - r * x * math.exp(-r * t) * norm.cdf(d2)\n",
    "        vega = math.exp((b - r) * t) * fs * t__sqrt * norm.pdf(d1)\n",
    "        rho = x * t * math.exp(-r * t) * norm.cdf(d2)\n",
    "\n",
    "    else:\n",
    "        value = x * math.exp(-r * t) * norm.cdf(-d2) - (fs * math.exp((b - r) * t) * norm.cdf(-d1))\n",
    "        delta = math.exp((b - r) * t) * norm.cdf(-d1)\n",
    "        gamma = math.exp((b - r) * t) * norm.pdf(d1) / (fs * v * t__sqrt)\n",
    "        theta = (fs * v * math.exp((b - r) * t) * norm.pdf(d1)) / (2 * t__sqrt) + (b - r) * fs * math.exp((b - r) * t) * norm.cdf(-d1) + r * x * math.exp(-r * t) * norm.cdf(-d2)\n",
    "        vega = math.exp((b - r) * t) * fs * t__sqrt * norm.pdf(d1)\n",
    "        rho = -x * t * math.exp(-r * t) * norm.cdf(-d2)\n",
    "\n",
    "    return value, delta, gamma, theta, vega, rho\n",
    "\n",
    "\n",
    "def black_76(option_type, fs, x, t, r, v):\n",
    "    b = 0\n",
    "    return _gbs(option_type, fs, x, t, r, b, v)\n",
    "\n",
    "\n",
    "def _gbs_O(option_type, fs, x, t, r, b, v):\n",
    "\n",
    "    t__sqrt = math.sqrt(t)\n",
    "    d1 = (math.log(fs / x) + (b + (v * v) / 2) * t) / (v * t__sqrt)\n",
    "    d2 = d1 - v * t__sqrt\n",
    "\n",
    "    if option_type == \"c\":\n",
    "        value = fs * math.exp((b - r) * t) * norm.cdf(d1) - x * math.exp(-r * t) * norm.cdf(d2)\n",
    "\n",
    "    else:\n",
    "        value = x * math.exp(-r * t) * norm.cdf(-d2) - (fs * math.exp((b - r) * t) * norm.cdf(-d1))\n",
    "        \n",
    "\n",
    "    return value\n",
    "\n",
    "\n",
    "def black_76_O(v,obs_price,option_type, fs, x, t, r):\n",
    "    b = 0\n",
    "    return _gbs_O(option_type, fs, x, t, r, b, v) - obs_price\n",
    "\n",
    "\n",
    "def _gbs_BL(x, fs, t, r, b, v):\n",
    "    t__sqrt = math.sqrt(t)\n",
    "    d1 = (math.log(fs / x) + (b + (v * v) / 2) * t) / (v * t__sqrt)\n",
    "    d2 = d1 - v * t__sqrt\n",
    "    value = fs * math.exp((b - r) * t) * norm.cdf(d1) - x * math.exp(-r * t) * norm.cdf(d2)\n",
    "    return value\n",
    "\n",
    "def black_76_BL(x, fs, t, r, v):\n",
    "    b = 0\n",
    "    return _gbs_BL(x, fs, t, r, 0, v)\n",
    "\n",
    "\n",
    "def bisection_search(obs_price,option_type, fs, x, t, r):\n",
    "    upper = 1\n",
    "    lower = 0\n",
    "    tol = 1e-3\n",
    "    error = 1\n",
    "    prev_error = None\n",
    "    counter = 0\n",
    "    while error > tol:\n",
    "        counter +=1\n",
    "        i = (upper + lower) / 2\n",
    "        error = black_76_O(i,obs_price,option_type, fs, x, t, r)\n",
    "        if error > 0:\n",
    "            upper = i\n",
    "        else:\n",
    "            lower = i\n",
    "        \n",
    "        prev_error = error \n",
    "        error = abs(error)\n",
    "    return i\n",
    "    \n",
    "\n",
    "def IV(alpha, delta):\n",
    "    a = np.array(alpha)\n",
    "    d = np.array([delta] * 5 + [abs(0.5 - delta)]) ** np.array([0,1,2,3,4,4])\n",
    "    return np.sum(a*d)\n",
    "\n",
    "def implied_strike(delta,fs,t,r,v):\n",
    "    var = v * v * t\n",
    "    a = math.sqrt(var)\n",
    "    b = var/2\n",
    "    d = norm.ppf(math.exp(r * t) * delta)\n",
    "    return fs * math.exp(b - (a*d))\n",
    "\n",
    "def breeden_litzenberger(x, fs, t, r, v):\n",
    "    return math.exp(r*t)*prime(black_76_BL,dx = 0.001,x0 = x,n=2,args=(fs,t,r,v))\n",
    "\n",
    "\n",
    "\n",
    "def produce_IV_estimates(chain, asof, r, penalty, return_what='estimates' ):\n",
    "    path = f'C:/Users/rfield/Desktop/option_implied_distributions/{chain.lower()}_{asof}.xlsx'\n",
    "    des  = pd.read_excel(path).values[1,0]\n",
    "    calls = pd.DataFrame(pd.read_excel(path).values[2:,1:6], columns = ['X','B','O','c','iv']).drop(columns = ['B','O']).astype(float)\n",
    "    puts = pd.DataFrame(pd.read_excel(path).values[2:,8:13], columns = ['X','B','O','p','iv']).drop(columns = ['B','O']).astype(float)\n",
    "    calls_o = calls[calls['c']>0].index\n",
    "    puts_o = puts[puts['p']>0].index\n",
    "    m,d,y = int(des.split('/')[0][-1]), int(des.split('/')[1]),2000 + int(des.split('/')[2][:2]) \n",
    "    o = dt(int(asof[:4]),int(asof[4:6]),int(asof[6:]))\n",
    "    days = (dt(y,m,d) - dt(o.year,o.month,o.day)).days \n",
    "    F = float(des.split()[-1])\n",
    "    t = days / 365\n",
    "    r /=100\n",
    "    for i in calls_o:\n",
    "        try:\n",
    "            vol = bisection_search(calls.c[i],'c',F,calls.X[i],t,r)\n",
    "        except ZeroDivisionError:\n",
    "            vol =0\n",
    "        calls.iv[i] = vol\n",
    "\n",
    "    for i in puts_o:\n",
    "            try:\n",
    "                vol = bisection_search(puts.p[i],'p',F,puts.X[i],t,r)\n",
    "            except ZeroDivisionError:\n",
    "                vol = puts.iv[i-1]\n",
    "            puts.iv[i] = vol\n",
    "\n",
    "    for i in calls.index:\n",
    "        if calls.iv[i] == 0:\n",
    "            calls.iv[i] = puts.iv[i]\n",
    "\n",
    "    calls['delta'] = [black_76('c',F,calls.X[i],t,r,calls.iv[i])[1] for i in calls.index]\n",
    "    puts['delta'] = [black_76('p',F,puts.X[i],t,r,puts.iv[i])[1] for i in puts.index]\n",
    "    calls = calls[(calls['delta']<0.85)&(calls['delta']>0.15)].copy(deep = True).reset_index(drop = True) \n",
    "    puts =  puts[(puts['delta']<0.85)&(puts['delta']>0.15)].copy(deep = True).reset_index(drop = True)\n",
    "    puts['delta'] = 1 - puts.delta\n",
    "\n",
    "    data = pd.concat((puts[['iv','delta']],calls[['iv','delta']]),ignore_index=True)\n",
    "    data['delta_2'] = [i**2 for i in data.delta]\n",
    "    data['delta_3'] =[i**3 for i in data.delta]\n",
    "    data['delta_4'] =[i**4 for i in data.delta]\n",
    "    data['delta_abs'] = [abs(0.5 -i)**4 for i in data.delta]\n",
    "    \n",
    "    X = data[['delta','delta_2','delta_3','delta_4','delta_abs']]\n",
    "    y = data['iv']\n",
    "    model_2 = linear_model.Ridge(alpha = penalty)\n",
    "    model_2.fit(X,y)\n",
    "    fitted_alpha_ridge = [model_2.intercept_] + [i for i in model_2.coef_]\n",
    "    data['check_r'] = [IV(fitted_alpha_ridge,i) for i in data.delta]\n",
    "    \n",
    "    plt.scatter(x = data.delta,y = data.iv,color = 'b')\n",
    "    plt.scatter(x = data.delta,y = data.check_r,color = 'r')\n",
    "    \n",
    "    \n",
    "    if return_what =='estimates':\n",
    "        return fitted_alpha_ridge\n",
    "    else:\n",
    "        plt.scatter(x = data.delta,y = data.iv,color = 'b')\n",
    "        plt.scatter(x = data.delta,y = data.check_r,color = 'r')\n",
    "\n",
    "    \n",
    "def generate_dist(chain, asof, r ,vol_param):\n",
    "    path = f'C:/Users/rfield/Desktop/option_implied_distributions/{chain.lower()}_{asof}.xlsx'\n",
    "    des  = pd.read_excel(path).values[1,0]\n",
    "    m,d,y = int(des.split('/')[0][-1]), int(des.split('/')[1]),2000 + int(des.split('/')[2][:2]) \n",
    "    o = dt(int(asof[:4]),int(asof[4:6]),int(asof[6:]))\n",
    "    days = (dt(y,m,d) - dt(o.year,o.month,o.day)).days \n",
    "    F = float(des.split()[-1])\n",
    "    t = days / 365\n",
    "    r /=100\n",
    "    dist_df = pd.DataFrame({})\n",
    "    dist_df['delta'] = np.linspace(0.001,0.999,num = 100000)\n",
    "    dist_df['iv'] = [IV(vol_param,i) for i in dist_df.delta]\n",
    "    dist_df['x'] = [implied_strike(delta=i,fs=F,t=t,r=r,v=j) for i,j in zip(dist_df.delta,dist_df.iv)]\n",
    "    dist_df['r'] = [100 - i for i in dist_df.x]\n",
    "    dist_df['bl'] = [breeden_litzenberger(x=i,fs=F,t=t,r=r,v=j) for i,j in zip(dist_df.x,dist_df.iv)]\n",
    "    dist_df['dr'] = dist_df['r'].diff()\n",
    "    dist_df.dropna(inplace = True)\n",
    "    dist_df.reset_index(inplace = True)\n",
    "    dist_df_p = np.sum(dist_df.bl.values*dist_df.dr.values)\n",
    "    dist_df['bl'] = dist_df['bl']/dist_df_p\n",
    "    dist_df['cum_bl'] = dist_df.bl.values*dist_df.dr.values\n",
    "    dist_df['cum_bl'] = dist_df['cum_bl'].cumsum()\n",
    "    \n",
    "    moments = pd.DataFrame({}, columns = ['AVG','STD','MEDIAN', 'MODE','SKEW','KURTOSIS','NP SKEW'])\n",
    "    \n",
    "    moments.loc[0,'AVG'] = np.sum(dist_df.bl.values*dist_df.dr.values*dist_df.r.values)\n",
    "    moments.loc[0,'STD'] = np.sqrt(np.sum( dist_df.bl.values*dist_df.dr.values*((dist_df.r.values - moments.AVG[0])**2))) \n",
    "    moments.loc[0,'SKEW'] = np.sum(dist_df.bl.values*dist_df.dr.values*((dist_df.r.values - moments.AVG[0])**3)) /( moments.STD[0] **3)\n",
    "    moments.loc[0,'KURTOSIS'] = np.sum( dist_df.bl.values*dist_df.dr.values*((dist_df.r.values - moments.AVG[0])**4)) / (moments.STD[0] ** 4)\n",
    "    moments.loc[0,'MEDIAN']  = dist_df['r'][dist_df['cum_bl']> 0.5].values[0]\n",
    "    moments.loc[0,'MODE'] = dist_df[dist_df['bl'] == dist_df['bl'].max()]['r'].values[0]\n",
    "    return dist_df , moments * 100\n",
    "    \n",
    "def plot_dist(df,asof,chain ,color = 'blue'):\n",
    "    o = dt(int(asof[:4]),int(asof[4:6]),int(asof[6:]))\n",
    "    fig, ax =  plt.subplots(figsize = (15,6))\n",
    "    ax.plot(df.r.values,df.bl.values, color = color)\n",
    "    ax.set_xlabel('RATE')\n",
    "    ax.set_ylim(ymin=0)\n",
    "    x = ax.lines[0].get_xydata()[:,0]\n",
    "    y = ax.lines[0].get_xydata()[:,1]\n",
    "    ax.fill_between(x, y, color=color, alpha=0.1)\n",
    "    ax.set_title(f'OPTION IMPLIED DISTRIBUTION ON {chain} AS OF {o.strftime(\"%B\")} {o.strftime(\"%d\")}'.upper())\n",
    "    plt.show()\n",
    "\n",
    "\n",
    "def plot_dist_comp(df,df_old,asof,asof_old,chain ,color = 'blue'):\n",
    "    o = dt(int(asof[:4]),int(asof[4:6]),int(asof[6:]))\n",
    "    q = dt(int(asof_old[:4]),int(asof_old[4:6]),int(asof_old[6:]))\n",
    "    fig, ax =  plt.subplots(figsize = (15,6))\n",
    "    ax.plot(df.r.values,df.bl.values, color = color,label = o.strftime('%b %d'))\n",
    "    ax.plot(df_old.r.values,df_old.bl.values, color = f'dark{color}', linestyle = '--',label = q.strftime('%b %d'))\n",
    "    ax.set_xlabel('RATE')\n",
    "    ax.set_ylim(ymin=0)\n",
    "    x = ax.lines[0].get_xydata()[:,0]\n",
    "    y = ax.lines[0].get_xydata()[:,1]\n",
    "    ax.legend()\n",
    "    ax.fill_between(x, y, color=color, alpha=0.1)\n",
    "    ax.set_title(f'OPTION IMPLIED DISTRIBUTION ON {chain} AS OF {o.strftime(\"%B\")} {o.strftime(\"%d\")}'.upper())\n",
    "    plt.savefig(f'C:/Users/rfield/Desktop/option_implied_distributions/{chain}_{asof}_RND.png', bbox_inches='tight')\n",
    "    \n",
    "    plt.show()    "
   ]
  },
  {
   "cell_type": "code",
   "execution_count": null,
   "metadata": {},
   "outputs": [],
   "source": []
  },
  {
   "cell_type": "code",
   "execution_count": 102,
   "metadata": {},
   "outputs": [
    {
     "data": {
      "image/png": "[encoded data removed]",
      "text/plain": [
       "<Figure size 640x480 with 1 Axes>"
      ]
     },
     "metadata": {},
     "output_type": "display_data"
    }
   ],
   "source": [
    "chain = 'sfrm5'\n",
    "asof_1 = '20240819'\n",
    "asof = '20240802'\n",
    "r_1 = 3.66\n",
    "r = 3.66\n",
    "penalty = 0.5\n",
    "x = produce_IV_estimates(chain,asof_1,r_1,penalty)"
   ]
  },
  {
   "cell_type": "code",
   "execution_count": 103,
   "metadata": {},
   "outputs": [
    {
     "data": {
      "image/png": "[encoded data removed]",
      "text/plain": [
       "<Figure size 640x480 with 1 Axes>"
      ]
     },
     "metadata": {},
     "output_type": "display_data"
    }
   ],
   "source": [
    "y = produce_IV_estimates(chain,asof,r,penalty)"
   ]
  },
  {
   "cell_type": "code",
   "execution_count": null,
   "metadata": {},
   "outputs": [],
   "source": [
    "\n",
    "    "
   ]
  },
  {
   "cell_type": "code",
   "execution_count": 104,
   "metadata": {},
   "outputs": [
    {
     "name": "stderr",
     "output_type": "stream",
     "text": [
      "C:\\Users\\rfield\\AppData\\Local\\Temp\\ipykernel_26040\\2769423555.py:114: DeprecationWarning: scipy.misc.derivative is deprecated in SciPy v1.10.0; and will be completely removed in SciPy v1.12.0. You may consider using findiff: https://github.com/maroba/findiff or numdifftools: https://github.com/pbrod/numdifftools\n",
      "  return math.exp(r*t)*prime(black_76_BL,dx = 0.001,x0 = x,n=2,args=(fs,t,r,v))\n",
      "C:\\Users\\rfield\\AppData\\Local\\Temp\\ipykernel_26040\\2769423555.py:114: DeprecationWarning: scipy.misc.derivative is deprecated in SciPy v1.10.0; and will be completely removed in SciPy v1.12.0. You may consider using findiff: https://github.com/maroba/findiff or numdifftools: https://github.com/pbrod/numdifftools\n",
      "  return math.exp(r*t)*prime(black_76_BL,dx = 0.001,x0 = x,n=2,args=(fs,t,r,v))\n"
     ]
    }
   ],
   "source": [
    "df, mom = generate_dist(chain, asof,r,y)\n",
    "df_1, mom_1 = generate_dist(chain, asof_1,r_1,x)\n",
    "mom.to_excel(f'C:/Users/rfield/Desktop/option_implied_distributions/{chain}_{asof}_mom10.xlsx')\n",
    "mom_1.to_excel(f'C:/Users/rfield/Desktop/option_implied_distributions/{chain}_{asof_1}_mom10.xlsx')"
   ]
  },
  {
   "cell_type": "code",
   "execution_count": 105,
   "metadata": {
    "scrolled": false
   },
   "outputs": [
    {
     "data": {
      "image/png": "[encoded data removed]",
      "text/plain": [
       "<Figure size 1500x600 with 1 Axes>"
      ]
     },
     "metadata": {},
     "output_type": "display_data"
    }
   ],
   "source": [
    "plot_dist_comp(df,df_1,asof,asof_1,chain,color = 'blue')"
   ]
  },
  {
   "cell_type": "code",
   "execution_count": 106,
   "metadata": {},
   "outputs": [],
   "source": [
    "df.to_excel(f'C:/Users/rfield/Desktop/option_implied_distributions/2024-08-19/{chain}_{asof_1}_df.xlsx')\n",
    "df_1.to_excel(f'C:/Users/rfield/Desktop/option_implied_distributions/2024-08-19/{chain}_{asof}_df.xlsx')"
   ]
  },
  {
   "cell_type": "code",
   "execution_count": 59,
   "metadata": {},
   "outputs": [
    {
     "data": {
      "text/html": [
       "<div>\n",
       "<style scoped>\n",
       "    .dataframe tbody tr th:only-of-type {\n",
       "        vertical-align: middle;\n",
       "    }\n",
       "\n",
       "    .dataframe tbody tr th {\n",
       "        vertical-align: top;\n",
       "    }\n",
       "\n",
       "    .dataframe thead th {\n",
       "        text-align: right;\n",
       "    }\n",
       "</style>\n",
       "<table border=\"1\" class=\"dataframe\">\n",
       "  <thead>\n",
       "    <tr style=\"text-align: right;\">\n",
       "      <th></th>\n",
       "      <th>index</th>\n",
       "      <th>delta</th>\n",
       "      <th>iv</th>\n",
       "      <th>x</th>\n",
       "      <th>r</th>\n",
       "      <th>bl</th>\n",
       "      <th>dr</th>\n",
       "      <th>cum_bl</th>\n",
       "    </tr>\n",
       "  </thead>\n",
       "  <tbody>\n",
       "    <tr>\n",
       "      <th>0</th>\n",
       "      <td>1</td>\n",
       "      <td>0.001010</td>\n",
       "      <td>0.029911</td>\n",
       "      <td>105.056928</td>\n",
       "      <td>-5.056928</td>\n",
       "      <td>0.001096</td>\n",
       "      <td>0.008588</td>\n",
       "      <td>0.000009</td>\n",
       "    </tr>\n",
       "    <tr>\n",
       "      <th>1</th>\n",
       "      <td>2</td>\n",
       "      <td>0.001020</td>\n",
       "      <td>0.029911</td>\n",
       "      <td>105.048417</td>\n",
       "      <td>-5.048417</td>\n",
       "      <td>0.001106</td>\n",
       "      <td>0.008511</td>\n",
       "      <td>0.000019</td>\n",
       "    </tr>\n",
       "    <tr>\n",
       "      <th>2</th>\n",
       "      <td>3</td>\n",
       "      <td>0.001030</td>\n",
       "      <td>0.029911</td>\n",
       "      <td>105.039982</td>\n",
       "      <td>-5.039982</td>\n",
       "      <td>0.001116</td>\n",
       "      <td>0.008435</td>\n",
       "      <td>0.000028</td>\n",
       "    </tr>\n",
       "    <tr>\n",
       "      <th>3</th>\n",
       "      <td>4</td>\n",
       "      <td>0.001040</td>\n",
       "      <td>0.029910</td>\n",
       "      <td>105.031622</td>\n",
       "      <td>-5.031622</td>\n",
       "      <td>0.001126</td>\n",
       "      <td>0.008360</td>\n",
       "      <td>0.000038</td>\n",
       "    </tr>\n",
       "    <tr>\n",
       "      <th>4</th>\n",
       "      <td>5</td>\n",
       "      <td>0.001050</td>\n",
       "      <td>0.029910</td>\n",
       "      <td>105.023335</td>\n",
       "      <td>-5.023335</td>\n",
       "      <td>0.001137</td>\n",
       "      <td>0.008287</td>\n",
       "      <td>0.000047</td>\n",
       "    </tr>\n",
       "    <tr>\n",
       "      <th>...</th>\n",
       "      <td>...</td>\n",
       "      <td>...</td>\n",
       "      <td>...</td>\n",
       "      <td>...</td>\n",
       "      <td>...</td>\n",
       "      <td>...</td>\n",
       "      <td>...</td>\n",
       "      <td>...</td>\n",
       "    </tr>\n",
       "    <tr>\n",
       "      <th>95727</th>\n",
       "      <td>95728</td>\n",
       "      <td>0.956375</td>\n",
       "      <td>0.009392</td>\n",
       "      <td>93.386224</td>\n",
       "      <td>6.613776</td>\n",
       "      <td>0.000239</td>\n",
       "      <td>0.039591</td>\n",
       "      <td>0.999968</td>\n",
       "    </tr>\n",
       "    <tr>\n",
       "      <th>95728</th>\n",
       "      <td>95729</td>\n",
       "      <td>0.956385</td>\n",
       "      <td>0.009393</td>\n",
       "      <td>93.337135</td>\n",
       "      <td>6.662865</td>\n",
       "      <td>0.000188</td>\n",
       "      <td>0.049089</td>\n",
       "      <td>0.999978</td>\n",
       "    </tr>\n",
       "    <tr>\n",
       "      <th>95729</th>\n",
       "      <td>95730</td>\n",
       "      <td>0.956395</td>\n",
       "      <td>0.009393</td>\n",
       "      <td>93.272147</td>\n",
       "      <td>6.727853</td>\n",
       "      <td>0.000136</td>\n",
       "      <td>0.064988</td>\n",
       "      <td>0.999986</td>\n",
       "    </tr>\n",
       "    <tr>\n",
       "      <th>95730</th>\n",
       "      <td>95731</td>\n",
       "      <td>0.956405</td>\n",
       "      <td>0.009393</td>\n",
       "      <td>93.174620</td>\n",
       "      <td>6.825380</td>\n",
       "      <td>0.000082</td>\n",
       "      <td>0.097527</td>\n",
       "      <td>0.999994</td>\n",
       "    </tr>\n",
       "    <tr>\n",
       "      <th>95731</th>\n",
       "      <td>95732</td>\n",
       "      <td>0.956415</td>\n",
       "      <td>0.009393</td>\n",
       "      <td>92.963975</td>\n",
       "      <td>7.036025</td>\n",
       "      <td>0.000027</td>\n",
       "      <td>0.210645</td>\n",
       "      <td>1.000000</td>\n",
       "    </tr>\n",
       "  </tbody>\n",
       "</table>\n",
       "<p>95732 rows × 8 columns</p>\n",
       "</div>"
      ],
      "text/plain": [
       "       index     delta        iv           x         r        bl        dr  \\\n",
       "0          1  0.001010  0.029911  105.056928 -5.056928  0.001096  0.008588   \n",
       "1          2  0.001020  0.029911  105.048417 -5.048417  0.001106  0.008511   \n",
       "2          3  0.001030  0.029911  105.039982 -5.039982  0.001116  0.008435   \n",
       "3          4  0.001040  0.029910  105.031622 -5.031622  0.001126  0.008360   \n",
       "4          5  0.001050  0.029910  105.023335 -5.023335  0.001137  0.008287   \n",
       "...      ...       ...       ...         ...       ...       ...       ...   \n",
       "95727  95728  0.956375  0.009392   93.386224  6.613776  0.000239  0.039591   \n",
       "95728  95729  0.956385  0.009393   93.337135  6.662865  0.000188  0.049089   \n",
       "95729  95730  0.956395  0.009393   93.272147  6.727853  0.000136  0.064988   \n",
       "95730  95731  0.956405  0.009393   93.174620  6.825380  0.000082  0.097527   \n",
       "95731  95732  0.956415  0.009393   92.963975  7.036025  0.000027  0.210645   \n",
       "\n",
       "         cum_bl  \n",
       "0      0.000009  \n",
       "1      0.000019  \n",
       "2      0.000028  \n",
       "3      0.000038  \n",
       "4      0.000047  \n",
       "...         ...  \n",
       "95727  0.999968  \n",
       "95728  0.999978  \n",
       "95729  0.999986  \n",
       "95730  0.999994  \n",
       "95731  1.000000  \n",
       "\n",
       "[95732 rows x 8 columns]"
      ]
     },
     "execution_count": 59,
     "metadata": {},
     "output_type": "execute_result"
    }
   ],
   "source": [
    "df"
   ]
  },
  {
   "cell_type": "code",
   "execution_count": null,
   "metadata": {},
   "outputs": [],
   "source": []
  },
  {
   "cell_type": "code",
   "execution_count": 30,
   "metadata": {},
   "outputs": [
    {
     "ename": "ValueError",
     "evalue": "could not convert string to float: 'ERM5C 92'",
     "output_type": "error",
     "traceback": [
      "\u001b[1;31m---------------------------------------------------------------------------\u001b[0m",
      "\u001b[1;31mValueError\u001b[0m                                Traceback (most recent call last)",
      "Cell \u001b[1;32mIn[30], line 7\u001b[0m\n\u001b[0;32m      5\u001b[0m r \u001b[38;5;241m=\u001b[39m \u001b[38;5;241m3.66\u001b[39m\n\u001b[0;32m      6\u001b[0m penalty \u001b[38;5;241m=\u001b[39m \u001b[38;5;241m1\u001b[39m\n\u001b[1;32m----> 7\u001b[0m x \u001b[38;5;241m=\u001b[39m \u001b[43mproduce_IV_estimates\u001b[49m\u001b[43m(\u001b[49m\u001b[43mchain\u001b[49m\u001b[43m,\u001b[49m\u001b[43masof_1\u001b[49m\u001b[43m,\u001b[49m\u001b[43mr_1\u001b[49m\u001b[43m,\u001b[49m\u001b[43mpenalty\u001b[49m\u001b[43m)\u001b[49m\n",
      "Cell \u001b[1;32mIn[24], line 121\u001b[0m, in \u001b[0;36mproduce_IV_estimates\u001b[1;34m(chain, asof, r, penalty, return_what)\u001b[0m\n\u001b[0;32m    119\u001b[0m path \u001b[38;5;241m=\u001b[39m \u001b[38;5;124mf\u001b[39m\u001b[38;5;124m'\u001b[39m\u001b[38;5;124mC:/Users/rfield/Desktop/option_implied_distributions/\u001b[39m\u001b[38;5;132;01m{\u001b[39;00mchain\u001b[38;5;241m.\u001b[39mlower()\u001b[38;5;132;01m}\u001b[39;00m\u001b[38;5;124m_\u001b[39m\u001b[38;5;132;01m{\u001b[39;00masof\u001b[38;5;132;01m}\u001b[39;00m\u001b[38;5;124m.xlsx\u001b[39m\u001b[38;5;124m'\u001b[39m\n\u001b[0;32m    120\u001b[0m des  \u001b[38;5;241m=\u001b[39m pd\u001b[38;5;241m.\u001b[39mread_excel(path)\u001b[38;5;241m.\u001b[39mvalues[\u001b[38;5;241m1\u001b[39m,\u001b[38;5;241m0\u001b[39m]\n\u001b[1;32m--> 121\u001b[0m calls \u001b[38;5;241m=\u001b[39m \u001b[43mpd\u001b[49m\u001b[38;5;241;43m.\u001b[39;49m\u001b[43mDataFrame\u001b[49m\u001b[43m(\u001b[49m\u001b[43mpd\u001b[49m\u001b[38;5;241;43m.\u001b[39;49m\u001b[43mread_excel\u001b[49m\u001b[43m(\u001b[49m\u001b[43mpath\u001b[49m\u001b[43m)\u001b[49m\u001b[38;5;241;43m.\u001b[39;49m\u001b[43mvalues\u001b[49m\u001b[43m[\u001b[49m\u001b[38;5;241;43m2\u001b[39;49m\u001b[43m:\u001b[49m\u001b[43m,\u001b[49m\u001b[38;5;241;43m1\u001b[39;49m\u001b[43m:\u001b[49m\u001b[38;5;241;43m6\u001b[39;49m\u001b[43m]\u001b[49m\u001b[43m,\u001b[49m\u001b[43m \u001b[49m\u001b[43mcolumns\u001b[49m\u001b[43m \u001b[49m\u001b[38;5;241;43m=\u001b[39;49m\u001b[43m \u001b[49m\u001b[43m[\u001b[49m\u001b[38;5;124;43m'\u001b[39;49m\u001b[38;5;124;43mX\u001b[39;49m\u001b[38;5;124;43m'\u001b[39;49m\u001b[43m,\u001b[49m\u001b[38;5;124;43m'\u001b[39;49m\u001b[38;5;124;43mB\u001b[39;49m\u001b[38;5;124;43m'\u001b[39;49m\u001b[43m,\u001b[49m\u001b[38;5;124;43m'\u001b[39;49m\u001b[38;5;124;43mO\u001b[39;49m\u001b[38;5;124;43m'\u001b[39;49m\u001b[43m,\u001b[49m\u001b[38;5;124;43m'\u001b[39;49m\u001b[38;5;124;43mc\u001b[39;49m\u001b[38;5;124;43m'\u001b[39;49m\u001b[43m,\u001b[49m\u001b[38;5;124;43m'\u001b[39;49m\u001b[38;5;124;43miv\u001b[39;49m\u001b[38;5;124;43m'\u001b[39;49m\u001b[43m]\u001b[49m\u001b[43m)\u001b[49m\u001b[38;5;241;43m.\u001b[39;49m\u001b[43mdrop\u001b[49m\u001b[43m(\u001b[49m\u001b[43mcolumns\u001b[49m\u001b[43m \u001b[49m\u001b[38;5;241;43m=\u001b[39;49m\u001b[43m \u001b[49m\u001b[43m[\u001b[49m\u001b[38;5;124;43m'\u001b[39;49m\u001b[38;5;124;43mB\u001b[39;49m\u001b[38;5;124;43m'\u001b[39;49m\u001b[43m,\u001b[49m\u001b[38;5;124;43m'\u001b[39;49m\u001b[38;5;124;43mO\u001b[39;49m\u001b[38;5;124;43m'\u001b[39;49m\u001b[43m]\u001b[49m\u001b[43m)\u001b[49m\u001b[38;5;241;43m.\u001b[39;49m\u001b[43mastype\u001b[49m\u001b[43m(\u001b[49m\u001b[38;5;28;43mfloat\u001b[39;49m\u001b[43m)\u001b[49m\n\u001b[0;32m    122\u001b[0m puts \u001b[38;5;241m=\u001b[39m pd\u001b[38;5;241m.\u001b[39mDataFrame(pd\u001b[38;5;241m.\u001b[39mread_excel(path)\u001b[38;5;241m.\u001b[39mvalues[\u001b[38;5;241m2\u001b[39m:,\u001b[38;5;241m8\u001b[39m:\u001b[38;5;241m13\u001b[39m], columns \u001b[38;5;241m=\u001b[39m [\u001b[38;5;124m'\u001b[39m\u001b[38;5;124mX\u001b[39m\u001b[38;5;124m'\u001b[39m,\u001b[38;5;124m'\u001b[39m\u001b[38;5;124mB\u001b[39m\u001b[38;5;124m'\u001b[39m,\u001b[38;5;124m'\u001b[39m\u001b[38;5;124mO\u001b[39m\u001b[38;5;124m'\u001b[39m,\u001b[38;5;124m'\u001b[39m\u001b[38;5;124mp\u001b[39m\u001b[38;5;124m'\u001b[39m,\u001b[38;5;124m'\u001b[39m\u001b[38;5;124miv\u001b[39m\u001b[38;5;124m'\u001b[39m])\u001b[38;5;241m.\u001b[39mdrop(columns \u001b[38;5;241m=\u001b[39m [\u001b[38;5;124m'\u001b[39m\u001b[38;5;124mB\u001b[39m\u001b[38;5;124m'\u001b[39m,\u001b[38;5;124m'\u001b[39m\u001b[38;5;124mO\u001b[39m\u001b[38;5;124m'\u001b[39m])\u001b[38;5;241m.\u001b[39mastype(\u001b[38;5;28mfloat\u001b[39m)\n\u001b[0;32m    123\u001b[0m calls_o \u001b[38;5;241m=\u001b[39m calls[calls[\u001b[38;5;124m'\u001b[39m\u001b[38;5;124mc\u001b[39m\u001b[38;5;124m'\u001b[39m]\u001b[38;5;241m>\u001b[39m\u001b[38;5;241m0\u001b[39m]\u001b[38;5;241m.\u001b[39mindex\n",
      "File \u001b[1;32m~\\AppData\\Local\\anaconda3\\lib\\site-packages\\pandas\\core\\generic.py:6240\u001b[0m, in \u001b[0;36mNDFrame.astype\u001b[1;34m(self, dtype, copy, errors)\u001b[0m\n\u001b[0;32m   6233\u001b[0m     results \u001b[38;5;241m=\u001b[39m [\n\u001b[0;32m   6234\u001b[0m         \u001b[38;5;28mself\u001b[39m\u001b[38;5;241m.\u001b[39miloc[:, i]\u001b[38;5;241m.\u001b[39mastype(dtype, copy\u001b[38;5;241m=\u001b[39mcopy)\n\u001b[0;32m   6235\u001b[0m         \u001b[38;5;28;01mfor\u001b[39;00m i \u001b[38;5;129;01min\u001b[39;00m \u001b[38;5;28mrange\u001b[39m(\u001b[38;5;28mlen\u001b[39m(\u001b[38;5;28mself\u001b[39m\u001b[38;5;241m.\u001b[39mcolumns))\n\u001b[0;32m   6236\u001b[0m     ]\n\u001b[0;32m   6238\u001b[0m \u001b[38;5;28;01melse\u001b[39;00m:\n\u001b[0;32m   6239\u001b[0m     \u001b[38;5;66;03m# else, only a single dtype is given\u001b[39;00m\n\u001b[1;32m-> 6240\u001b[0m     new_data \u001b[38;5;241m=\u001b[39m \u001b[38;5;28;43mself\u001b[39;49m\u001b[38;5;241;43m.\u001b[39;49m\u001b[43m_mgr\u001b[49m\u001b[38;5;241;43m.\u001b[39;49m\u001b[43mastype\u001b[49m\u001b[43m(\u001b[49m\u001b[43mdtype\u001b[49m\u001b[38;5;241;43m=\u001b[39;49m\u001b[43mdtype\u001b[49m\u001b[43m,\u001b[49m\u001b[43m \u001b[49m\u001b[43mcopy\u001b[49m\u001b[38;5;241;43m=\u001b[39;49m\u001b[43mcopy\u001b[49m\u001b[43m,\u001b[49m\u001b[43m \u001b[49m\u001b[43merrors\u001b[49m\u001b[38;5;241;43m=\u001b[39;49m\u001b[43merrors\u001b[49m\u001b[43m)\u001b[49m\n\u001b[0;32m   6241\u001b[0m     \u001b[38;5;28;01mreturn\u001b[39;00m \u001b[38;5;28mself\u001b[39m\u001b[38;5;241m.\u001b[39m_constructor(new_data)\u001b[38;5;241m.\u001b[39m__finalize__(\u001b[38;5;28mself\u001b[39m, method\u001b[38;5;241m=\u001b[39m\u001b[38;5;124m\"\u001b[39m\u001b[38;5;124mastype\u001b[39m\u001b[38;5;124m\"\u001b[39m)\n\u001b[0;32m   6243\u001b[0m \u001b[38;5;66;03m# GH 33113: handle empty frame or series\u001b[39;00m\n",
      "File \u001b[1;32m~\\AppData\\Local\\anaconda3\\lib\\site-packages\\pandas\\core\\internals\\managers.py:448\u001b[0m, in \u001b[0;36mBaseBlockManager.astype\u001b[1;34m(self, dtype, copy, errors)\u001b[0m\n\u001b[0;32m    447\u001b[0m \u001b[38;5;28;01mdef\u001b[39;00m \u001b[38;5;21mastype\u001b[39m(\u001b[38;5;28mself\u001b[39m: T, dtype, copy: \u001b[38;5;28mbool\u001b[39m \u001b[38;5;241m=\u001b[39m \u001b[38;5;28;01mFalse\u001b[39;00m, errors: \u001b[38;5;28mstr\u001b[39m \u001b[38;5;241m=\u001b[39m \u001b[38;5;124m\"\u001b[39m\u001b[38;5;124mraise\u001b[39m\u001b[38;5;124m\"\u001b[39m) \u001b[38;5;241m-\u001b[39m\u001b[38;5;241m>\u001b[39m T:\n\u001b[1;32m--> 448\u001b[0m     \u001b[38;5;28;01mreturn\u001b[39;00m \u001b[38;5;28;43mself\u001b[39;49m\u001b[38;5;241;43m.\u001b[39;49m\u001b[43mapply\u001b[49m\u001b[43m(\u001b[49m\u001b[38;5;124;43m\"\u001b[39;49m\u001b[38;5;124;43mastype\u001b[39;49m\u001b[38;5;124;43m\"\u001b[39;49m\u001b[43m,\u001b[49m\u001b[43m \u001b[49m\u001b[43mdtype\u001b[49m\u001b[38;5;241;43m=\u001b[39;49m\u001b[43mdtype\u001b[49m\u001b[43m,\u001b[49m\u001b[43m \u001b[49m\u001b[43mcopy\u001b[49m\u001b[38;5;241;43m=\u001b[39;49m\u001b[43mcopy\u001b[49m\u001b[43m,\u001b[49m\u001b[43m \u001b[49m\u001b[43merrors\u001b[49m\u001b[38;5;241;43m=\u001b[39;49m\u001b[43merrors\u001b[49m\u001b[43m)\u001b[49m\n",
      "File \u001b[1;32m~\\AppData\\Local\\anaconda3\\lib\\site-packages\\pandas\\core\\internals\\managers.py:352\u001b[0m, in \u001b[0;36mBaseBlockManager.apply\u001b[1;34m(self, f, align_keys, ignore_failures, **kwargs)\u001b[0m\n\u001b[0;32m    350\u001b[0m         applied \u001b[38;5;241m=\u001b[39m b\u001b[38;5;241m.\u001b[39mapply(f, \u001b[38;5;241m*\u001b[39m\u001b[38;5;241m*\u001b[39mkwargs)\n\u001b[0;32m    351\u001b[0m     \u001b[38;5;28;01melse\u001b[39;00m:\n\u001b[1;32m--> 352\u001b[0m         applied \u001b[38;5;241m=\u001b[39m \u001b[38;5;28mgetattr\u001b[39m(b, f)(\u001b[38;5;241m*\u001b[39m\u001b[38;5;241m*\u001b[39mkwargs)\n\u001b[0;32m    353\u001b[0m \u001b[38;5;28;01mexcept\u001b[39;00m (\u001b[38;5;167;01mTypeError\u001b[39;00m, \u001b[38;5;167;01mNotImplementedError\u001b[39;00m):\n\u001b[0;32m    354\u001b[0m     \u001b[38;5;28;01mif\u001b[39;00m \u001b[38;5;129;01mnot\u001b[39;00m ignore_failures:\n",
      "File \u001b[1;32m~\\AppData\\Local\\anaconda3\\lib\\site-packages\\pandas\\core\\internals\\blocks.py:526\u001b[0m, in \u001b[0;36mBlock.astype\u001b[1;34m(self, dtype, copy, errors)\u001b[0m\n\u001b[0;32m    508\u001b[0m \u001b[38;5;124;03m\"\"\"\u001b[39;00m\n\u001b[0;32m    509\u001b[0m \u001b[38;5;124;03mCoerce to the new dtype.\u001b[39;00m\n\u001b[0;32m    510\u001b[0m \n\u001b[1;32m   (...)\u001b[0m\n\u001b[0;32m    522\u001b[0m \u001b[38;5;124;03mBlock\u001b[39;00m\n\u001b[0;32m    523\u001b[0m \u001b[38;5;124;03m\"\"\"\u001b[39;00m\n\u001b[0;32m    524\u001b[0m values \u001b[38;5;241m=\u001b[39m \u001b[38;5;28mself\u001b[39m\u001b[38;5;241m.\u001b[39mvalues\n\u001b[1;32m--> 526\u001b[0m new_values \u001b[38;5;241m=\u001b[39m \u001b[43mastype_array_safe\u001b[49m\u001b[43m(\u001b[49m\u001b[43mvalues\u001b[49m\u001b[43m,\u001b[49m\u001b[43m \u001b[49m\u001b[43mdtype\u001b[49m\u001b[43m,\u001b[49m\u001b[43m \u001b[49m\u001b[43mcopy\u001b[49m\u001b[38;5;241;43m=\u001b[39;49m\u001b[43mcopy\u001b[49m\u001b[43m,\u001b[49m\u001b[43m \u001b[49m\u001b[43merrors\u001b[49m\u001b[38;5;241;43m=\u001b[39;49m\u001b[43merrors\u001b[49m\u001b[43m)\u001b[49m\n\u001b[0;32m    528\u001b[0m new_values \u001b[38;5;241m=\u001b[39m maybe_coerce_values(new_values)\n\u001b[0;32m    529\u001b[0m newb \u001b[38;5;241m=\u001b[39m \u001b[38;5;28mself\u001b[39m\u001b[38;5;241m.\u001b[39mmake_block(new_values)\n",
      "File \u001b[1;32m~\\AppData\\Local\\anaconda3\\lib\\site-packages\\pandas\\core\\dtypes\\astype.py:299\u001b[0m, in \u001b[0;36mastype_array_safe\u001b[1;34m(values, dtype, copy, errors)\u001b[0m\n\u001b[0;32m    296\u001b[0m     \u001b[38;5;28;01mreturn\u001b[39;00m values\u001b[38;5;241m.\u001b[39mcopy()\n\u001b[0;32m    298\u001b[0m \u001b[38;5;28;01mtry\u001b[39;00m:\n\u001b[1;32m--> 299\u001b[0m     new_values \u001b[38;5;241m=\u001b[39m \u001b[43mastype_array\u001b[49m\u001b[43m(\u001b[49m\u001b[43mvalues\u001b[49m\u001b[43m,\u001b[49m\u001b[43m \u001b[49m\u001b[43mdtype\u001b[49m\u001b[43m,\u001b[49m\u001b[43m \u001b[49m\u001b[43mcopy\u001b[49m\u001b[38;5;241;43m=\u001b[39;49m\u001b[43mcopy\u001b[49m\u001b[43m)\u001b[49m\n\u001b[0;32m    300\u001b[0m \u001b[38;5;28;01mexcept\u001b[39;00m (\u001b[38;5;167;01mValueError\u001b[39;00m, \u001b[38;5;167;01mTypeError\u001b[39;00m):\n\u001b[0;32m    301\u001b[0m     \u001b[38;5;66;03m# e.g. astype_nansafe can fail on object-dtype of strings\u001b[39;00m\n\u001b[0;32m    302\u001b[0m     \u001b[38;5;66;03m#  trying to convert to float\u001b[39;00m\n\u001b[0;32m    303\u001b[0m     \u001b[38;5;28;01mif\u001b[39;00m errors \u001b[38;5;241m==\u001b[39m \u001b[38;5;124m\"\u001b[39m\u001b[38;5;124mignore\u001b[39m\u001b[38;5;124m\"\u001b[39m:\n",
      "File \u001b[1;32m~\\AppData\\Local\\anaconda3\\lib\\site-packages\\pandas\\core\\dtypes\\astype.py:230\u001b[0m, in \u001b[0;36mastype_array\u001b[1;34m(values, dtype, copy)\u001b[0m\n\u001b[0;32m    227\u001b[0m     values \u001b[38;5;241m=\u001b[39m values\u001b[38;5;241m.\u001b[39mastype(dtype, copy\u001b[38;5;241m=\u001b[39mcopy)\n\u001b[0;32m    229\u001b[0m \u001b[38;5;28;01melse\u001b[39;00m:\n\u001b[1;32m--> 230\u001b[0m     values \u001b[38;5;241m=\u001b[39m \u001b[43mastype_nansafe\u001b[49m\u001b[43m(\u001b[49m\u001b[43mvalues\u001b[49m\u001b[43m,\u001b[49m\u001b[43m \u001b[49m\u001b[43mdtype\u001b[49m\u001b[43m,\u001b[49m\u001b[43m \u001b[49m\u001b[43mcopy\u001b[49m\u001b[38;5;241;43m=\u001b[39;49m\u001b[43mcopy\u001b[49m\u001b[43m)\u001b[49m\n\u001b[0;32m    232\u001b[0m \u001b[38;5;66;03m# in pandas we don't store numpy str dtypes, so convert to object\u001b[39;00m\n\u001b[0;32m    233\u001b[0m \u001b[38;5;28;01mif\u001b[39;00m \u001b[38;5;28misinstance\u001b[39m(dtype, np\u001b[38;5;241m.\u001b[39mdtype) \u001b[38;5;129;01mand\u001b[39;00m \u001b[38;5;28missubclass\u001b[39m(values\u001b[38;5;241m.\u001b[39mdtype\u001b[38;5;241m.\u001b[39mtype, \u001b[38;5;28mstr\u001b[39m):\n",
      "File \u001b[1;32m~\\AppData\\Local\\anaconda3\\lib\\site-packages\\pandas\\core\\dtypes\\astype.py:170\u001b[0m, in \u001b[0;36mastype_nansafe\u001b[1;34m(arr, dtype, copy, skipna)\u001b[0m\n\u001b[0;32m    166\u001b[0m     \u001b[38;5;28;01mraise\u001b[39;00m \u001b[38;5;167;01mValueError\u001b[39;00m(msg)\n\u001b[0;32m    168\u001b[0m \u001b[38;5;28;01mif\u001b[39;00m copy \u001b[38;5;129;01mor\u001b[39;00m is_object_dtype(arr\u001b[38;5;241m.\u001b[39mdtype) \u001b[38;5;129;01mor\u001b[39;00m is_object_dtype(dtype):\n\u001b[0;32m    169\u001b[0m     \u001b[38;5;66;03m# Explicit copy, or required since NumPy can't view from / to object.\u001b[39;00m\n\u001b[1;32m--> 170\u001b[0m     \u001b[38;5;28;01mreturn\u001b[39;00m \u001b[43marr\u001b[49m\u001b[38;5;241;43m.\u001b[39;49m\u001b[43mastype\u001b[49m\u001b[43m(\u001b[49m\u001b[43mdtype\u001b[49m\u001b[43m,\u001b[49m\u001b[43m \u001b[49m\u001b[43mcopy\u001b[49m\u001b[38;5;241;43m=\u001b[39;49m\u001b[38;5;28;43;01mTrue\u001b[39;49;00m\u001b[43m)\u001b[49m\n\u001b[0;32m    172\u001b[0m \u001b[38;5;28;01mreturn\u001b[39;00m arr\u001b[38;5;241m.\u001b[39mastype(dtype, copy\u001b[38;5;241m=\u001b[39mcopy)\n",
      "\u001b[1;31mValueError\u001b[0m: could not convert string to float: 'ERM5C 92'"
     ]
    }
   ],
   "source": [
    "chain = 'erm5'\n",
    "asof_1 = '20240813'\n",
    "asof = '20240813'\n",
    "r_1 = 3.66\n",
    "r = 3.66\n",
    "penalty = 1\n",
    "x = produce_IV_estimates(chain,asof_1,r_1,penalty)"
   ]
  },
  {
   "cell_type": "code",
   "execution_count": null,
   "metadata": {},
   "outputs": [],
   "source": [
    "y = produce_IV_estimates(chain,asof,r,penalty)"
   ]
  },
  {
   "cell_type": "code",
   "execution_count": null,
   "metadata": {},
   "outputs": [],
   "source": [
    "df, mom = generate_dist(chain, asof,r,y)\n",
    "df_1, mom_1 = generate_dist(chain, asof_1,r_1,x)\n",
    "mom.to_excel(f'C:/Users/rfield/Desktop/option_implied_distributions/{chain}_{asof}_mom10.xlsx')\n",
    "mom_1.to_excel(f'C:/Users/rfield/Desktop/option_implied_distributions/{chain}_{asof_1}_mom10.xlsx')"
   ]
  },
  {
   "cell_type": "code",
   "execution_count": null,
   "metadata": {},
   "outputs": [],
   "source": [
    "plot_dist_comp(df,df_1,asof,asof_1,chain,color = 'blue')"
   ]
  },
  {
   "cell_type": "code",
   "execution_count": 25,
   "metadata": {},
   "outputs": [],
   "source": [
    "df.to_excel(f'C:/Users/rfield/Desktop/option_implied_distributions/{chain}_{asof_1}_df.xlsx')\n",
    "df_1.to_excel(f'C:/Users/rfield/Desktop/option_implied_distributions/{chain}_{asof}_df.xlsx')"
   ]
  },
  {
   "cell_type": "code",
   "execution_count": null,
   "metadata": {},
   "outputs": [],
   "source": [
    "df.to_excel(f'C:/Users/rfield/Desktop/option_implied_distributions/2024-08-02/{chain}_{asof_1}_df4.xlsx')\n",
    "df_1.to_excel(f'C:/Users/rfield/Desktop/option_implied_distributions/2024-08-02/{chain}_{asof}_df4.xlsx')"
   ]
  },
  {
   "cell_type": "code",
   "execution_count": null,
   "metadata": {},
   "outputs": [],
   "source": []
  },
  {
   "cell_type": "code",
   "execution_count": null,
   "metadata": {},
   "outputs": [],
   "source": []
  },
  {
   "cell_type": "code",
   "execution_count": 48,
   "metadata": {},
   "outputs": [
    {
     "name": "stdout",
     "output_type": "stream",
     "text": [
      "       index     delta        iv            x            r            bl  \\\n",
      "0          1  0.001010  0.118650  5244.714977 -5144.714977  7.363728e-06   \n",
      "1          2  0.001020  0.118650  5243.678609 -5143.678609  7.437289e-06   \n",
      "2          3  0.001030  0.118650  5242.651728 -5142.651728  7.509159e-06   \n",
      "3          4  0.001040  0.118651  5241.634156 -5141.634156  7.564964e-06   \n",
      "4          5  0.001050  0.118651  5240.625720 -5140.625720  7.646135e-06   \n",
      "...      ...       ...       ...          ...          ...           ...   \n",
      "99069  99070  0.989728  0.254708  2427.845433 -2327.845433  8.658235e-07   \n",
      "99070  99071  0.989738  0.254711  2406.456403 -2306.456403  8.658235e-07   \n",
      "99071  99072  0.989748  0.254715  2378.471354 -2278.471354  8.658235e-07   \n",
      "99072  99073  0.989758  0.254718  2337.236284 -2237.236284 -8.658235e-07   \n",
      "99073  99074  0.989768  0.254721  2252.039264 -2152.039264  8.658235e-07   \n",
      "\n",
      "              dr    cum_bl                       Date  \n",
      "0       1.046039  0.000008 1752-03-12 09:23:02.233794  \n",
      "1       1.036368  0.000015 1752-03-13 09:23:02.233794  \n",
      "2       1.026881  0.000023 1752-03-14 09:23:02.233794  \n",
      "3       1.017572  0.000031 1752-03-15 09:23:02.233794  \n",
      "4       1.008437  0.000039 1752-03-16 09:23:02.233794  \n",
      "...          ...       ...                        ...  \n",
      "99069  17.402223  0.999919 2023-06-09 09:23:02.233794  \n",
      "99070  21.389030  0.999938 2023-06-10 09:23:02.233794  \n",
      "99071  27.985049  0.999962 2023-06-11 09:23:02.233794  \n",
      "99072  41.235070  0.999926 2023-06-12 09:23:02.233794  \n",
      "99073  85.197020  1.000000 2023-06-13 09:23:02.233794  \n",
      "\n",
      "[99074 rows x 9 columns]\n"
     ]
    }
   ],
   "source": [
    "import pandas as pd\n",
    "from datetime import datetime, timedelta\n",
    "\n",
    "\n",
    "# Calculate the range of dates\n",
    "start_date = datetime.today()\n",
    "end_date = start_date - timedelta(days=99073)\n",
    "date_range = pd.date_range(end=start_date, start=end_date)\n",
    "formatted_dates = [date.strftime('%Y-%m-%d') for date in date_range]\n",
    "\n",
    "# Add the date column to the dataframe\n",
    "df['Date'] = date_range\n",
    "\n",
    "# Print the dataframe\n",
    "print(df)"
   ]
  },
  {
   "cell_type": "code",
   "execution_count": 65,
   "metadata": {},
   "outputs": [
    {
     "ename": "com_error",
     "evalue": "(-2147352567, 'Exception occurred.', (0, 'Abacus.ComApi', 'There must be one start date or the same number of dates as values\\r\\nParameter name: startDateOrDates\\r\\nActual value was 9074.', None, 0, -2146233086), None)",
     "output_type": "error",
     "traceback": [
      "\u001b[1;31m---------------------------------------------------------------------------\u001b[0m",
      "\u001b[1;31mcom_error\u001b[0m                                 Traceback (most recent call last)",
      "Cell \u001b[1;32mIn[65], line 15\u001b[0m\n\u001b[0;32m     13\u001b[0m dates \u001b[38;5;241m=\u001b[39m output[\u001b[38;5;124m'\u001b[39m\u001b[38;5;124mDate\u001b[39m\u001b[38;5;124m'\u001b[39m]\u001b[38;5;241m.\u001b[39mdt\u001b[38;5;241m.\u001b[39mto_pydatetime()\n\u001b[0;32m     14\u001b[0m values \u001b[38;5;241m=\u001b[39m output[[\u001b[38;5;124m'\u001b[39m\u001b[38;5;124mr\u001b[39m\u001b[38;5;124m'\u001b[39m,\u001b[38;5;124m'\u001b[39m\u001b[38;5;124mbl\u001b[39m\u001b[38;5;124m'\u001b[39m]]\u001b[38;5;241m.\u001b[39mvalues\n\u001b[1;32m---> 15\u001b[0m s \u001b[38;5;241m=\u001b[39m \u001b[43md\u001b[49m\u001b[38;5;241;43m.\u001b[39;49m\u001b[43mCreateSeriesObject\u001b[49m\u001b[43m(\u001b[49m\u001b[38;5;124;43m\"\u001b[39;49m\u001b[38;5;124;43mih:mb:priv:s2\u001b[39;49m\u001b[38;5;124;43m\"\u001b[39;49m\u001b[43m,\u001b[49m\u001b[43m \u001b[49m\u001b[38;5;124;43m\"\u001b[39;49m\u001b[38;5;124;43mr\u001b[39;49m\u001b[38;5;124;43m\"\u001b[39;49m\u001b[43m,\u001b[49m\u001b[43m \u001b[49m\u001b[38;5;124;43m\"\u001b[39;49m\u001b[38;5;124;43mus\u001b[39;49m\u001b[38;5;124;43m\"\u001b[39;49m\u001b[43m,\u001b[49m\u001b[43m \u001b[49m\u001b[38;5;124;43m\"\u001b[39;49m\u001b[38;5;124;43mForecasts\u001b[39;49m\u001b[38;5;124;43m\"\u001b[39;49m\u001b[43m,\u001b[49m\u001b[43m \u001b[49m\u001b[43mf\u001b[49m\u001b[38;5;241;43m.\u001b[39;49m\u001b[43mDAILY\u001b[49m\u001b[43m,\u001b[49m\u001b[43m \u001b[49m\u001b[43mwk\u001b[49m\u001b[38;5;241;43m.\u001b[39;49m\u001b[43mMONDAY_TO_FRIDAY\u001b[49m\u001b[43m,\u001b[49m\u001b[43m \u001b[49m\u001b[43mdates\u001b[49m\u001b[43m,\u001b[49m\u001b[43m \u001b[49m\u001b[43mvalues\u001b[49m\u001b[43m,\u001b[49m\u001b[43m \u001b[49m\u001b[43mm\u001b[49m\u001b[43m)\u001b[49m\n\u001b[0;32m     17\u001b[0m d\u001b[38;5;241m.\u001b[39mUploadOneOrMoreSeries(s)\n\u001b[0;32m     19\u001b[0m output\n",
      "File \u001b[1;32m<COMObject <unknown>>:3\u001b[0m, in \u001b[0;36mCreateSeriesObject\u001b[1;34m(self, name, description, region, category, frequency, dayMask, startDateOrDates, values, metadata)\u001b[0m\n",
      "\u001b[1;31mcom_error\u001b[0m: (-2147352567, 'Exception occurred.', (0, 'Abacus.ComApi', 'There must be one start date or the same number of dates as values\\r\\nParameter name: startDateOrDates\\r\\nActual value was 9074.', None, 0, -2146233086), None)"
     ]
    }
   ],
   "source": [
    "import win32com.client\n",
    "import datetime\n",
    "import pandas as pd\n",
    "\n",
    "c = win32com.client.Dispatch(\"Macrobond.Connection\")\n",
    "d = c.Database\n",
    "\n",
    "from macrobond_api_constants import SeriesFrequency as f\n",
    "from macrobond_api_constants import SeriesWeekdays as wk\n",
    "\n",
    "output = df.iloc[90000:, :]\n",
    "m = d.CreateEmptyMetadata()\n",
    "dates = output['Date'].dt.to_pydatetime()\n",
    "values = output[['r','bl']].values\n",
    "s = d.CreateSeriesObject(\"ih:mb:priv:s2\", \"r\", \"us\", \"Forecasts\", f.DAILY, wk.MONDAY_TO_FRIDAY, dates, values, m)\n",
    "\n",
    "d.UploadOneOrMoreSeries(s)\n",
    "\n",
    "output"
   ]
  },
  {
   "cell_type": "code",
   "execution_count": 69,
   "metadata": {},
   "outputs": [
    {
     "data": {
      "text/plain": [
       "9074"
      ]
     },
     "execution_count": 69,
     "metadata": {},
     "output_type": "execute_result"
    }
   ],
   "source": [
    "len(output[['r','bl']].values"
   ]
  },
  {
   "cell_type": "code",
   "execution_count": 44,
   "metadata": {
    "scrolled": false
   },
   "outputs": [],
   "source": [
    "import win32com.client\n",
    "import datetime\n",
    "import pandas as pd\n",
    "\n",
    "c = win32com.client.Dispatch(\"Macrobond.Connection\")\n",
    "d = c.Database\n",
    "\n",
    "from macrobond_api_constants import SeriesFrequency as f\n",
    "from macrobond_api_constants import SeriesWeekdays as wk\n",
    "\n",
    "output = pd.read_excel(\"C:/Users/rfield/AppData/Local/Microsoft/Windows/INetCache/Content.Outlook/B62ULJV4/output.xlsx\")\n",
    "m = d.CreateEmptyMetadata()\n",
    "dates = output['Date'].dt.to_pydatetime()\n",
    "values = output['vix'].to_list()\n",
    "s = d.CreateSeriesObject(\"ih:mb:priv:test\", \"vix\", \"us\", \"Forecasts\", f.DAILY, wk.MONDAY_TO_FRIDAY, dates, values, m)\n",
    "\n",
    "d.UploadOneOrMoreSeries(s)\n"
   ]
  },
  {
   "cell_type": "code",
   "execution_count": null,
   "metadata": {},
   "outputs": [],
   "source": [
    "mom_1\n"
   ]
  },
  {
   "cell_type": "code",
   "execution_count": null,
   "metadata": {
    "scrolled": true
   },
   "outputs": [],
   "source": [
    "chain = 'sfim24'\n",
    "r_1 = 5.265\n",
    "r = 5.265\n",
    "penalty = 10\n",
    "x = produce_IV_estimates(chain,asof_1,r_1,penalty )\n"
   ]
  },
  {
   "cell_type": "code",
   "execution_count": null,
   "metadata": {},
   "outputs": [],
   "source": [
    "y = produce_IV_estimates(chain,asof,r,penalty)"
   ]
  },
  {
   "cell_type": "code",
   "execution_count": null,
   "metadata": {},
   "outputs": [],
   "source": [
    "df, mom = generate_dist(chain, asof,r,y)\n",
    "df_1, mom_1 = generate_dist(chain, asof_1,r_1,x)\n",
    "mom.to_excel(f'C:/Users/rfield/Desktop/option_implied_distributions/{chain}_{asof}_mom.xlsx')\n",
    "mom_1.to_excel(f'C:/Users/rfield/Desktop/option_implied_distributions/{chain}_{asof_1}_mom.xlsx')"
   ]
  },
  {
   "cell_type": "code",
   "execution_count": null,
   "metadata": {
    "scrolled": false
   },
   "outputs": [],
   "source": [
    "plot_dist_comp(df,df_1,asof,asof_1,chain,color = 'green')"
   ]
  },
  {
   "cell_type": "code",
   "execution_count": null,
   "metadata": {
    "scrolled": false
   },
   "outputs": [],
   "source": [
    "mom\n"
   ]
  },
  {
   "cell_type": "code",
   "execution_count": null,
   "metadata": {},
   "outputs": [],
   "source": [
    "mom_1\n"
   ]
  },
  {
   "cell_type": "code",
   "execution_count": null,
   "metadata": {},
   "outputs": [],
   "source": []
  },
  {
   "cell_type": "code",
   "execution_count": null,
   "metadata": {},
   "outputs": [],
   "source": []
  },
  {
   "cell_type": "code",
   "execution_count": null,
   "metadata": {},
   "outputs": [],
   "source": []
  },
  {
   "cell_type": "code",
   "execution_count": null,
   "metadata": {},
   "outputs": [],
   "source": []
  },
  {
   "cell_type": "code",
   "execution_count": null,
   "metadata": {},
   "outputs": [],
   "source": []
  },
  {
   "cell_type": "code",
   "execution_count": null,
   "metadata": {},
   "outputs": [],
   "source": []
  },
  {
   "cell_type": "code",
   "execution_count": null,
   "metadata": {},
   "outputs": [],
   "source": []
  },
  {
   "cell_type": "code",
   "execution_count": null,
   "metadata": {},
   "outputs": [],
   "source": [
    "grid = pd.DataFrame({},index = range(-100,101,25),columns = range(-100,101,25))\n",
    "path = []\n",
    "ate = []\n",
    "for i in range(-100,101,25):\n",
    "    for j in range(-100,101,25):\n",
    "        grid.at[i,j] = futures_price('H23',mpc,[3.9275,i/100,j/100])\n"
   ]
  },
  {
   "cell_type": "code",
   "execution_count": null,
   "metadata": {},
   "outputs": [],
   "source": [
    "grid"
   ]
  },
  {
   "cell_type": "code",
   "execution_count": null,
   "metadata": {},
   "outputs": [],
   "source": []
  },
  {
   "cell_type": "code",
   "execution_count": null,
   "metadata": {
    "scrolled": true
   },
   "outputs": [],
   "source": [
    "h23 = 100.00 -95.77\n",
    "h23"
   ]
  },
  {
   "cell_type": "code",
   "execution_count": null,
   "metadata": {},
   "outputs": [],
   "source": [
    "discrete = [df['r'].min()] + [grid['ate'][grid['cum'] == i].mean() for i in grid['cum'].unique()] + [df['r'].max()]\n",
    "discrete = [(discrete[i]+discrete[i-1])/2 for i in range(1,len(discrete))]"
   ]
  },
  {
   "cell_type": "code",
   "execution_count": null,
   "metadata": {},
   "outputs": [],
   "source": [
    "probs = [prob(discrete[i],df)  - prob(discrete[i-1],df)for i in range(1,len(discrete))]\n",
    "        "
   ]
  },
  {
   "cell_type": "code",
   "execution_count": null,
   "metadata": {},
   "outputs": [],
   "source": [
    "plt.bar(range(len(probs)),probs)"
   ]
  },
  {
   "cell_type": "code",
   "execution_count": null,
   "metadata": {},
   "outputs": [],
   "source": [
    "probs"
   ]
  },
  {
   "cell_type": "code",
   "execution_count": null,
   "metadata": {},
   "outputs": [],
   "source": [
    "grid['cum'].unique()"
   ]
  },
  {
   "cell_type": "code",
   "execution_count": null,
   "metadata": {},
   "outputs": [],
   "source": [
    "fmc = pd.DataFrame({'Date': ['03/22/2023', '05/03/2023', '06/14/2023', '07/26/2023', '09/20/2023', '11/01/2023', '12/13/2023']})\n",
    "ecb = pd.DataFrame({'Date': ['03/22/2023', '05/10/2023', '06/21/2023', '08/02/2023', '09/20/2023', '11/01/2023', '12/20/2023']})\n",
    "mpc = pd.DataFrame({'Date': ['03/23/2023', '05/11/2023', '06/22/2023', '08/03/2023', '09/21/2023', '11/02/2023', '12/14/2023']})"
   ]
  },
  {
   "cell_type": "code",
   "execution_count": null,
   "metadata": {},
   "outputs": [],
   "source": [
    "discrete"
   ]
  },
  {
   "cell_type": "code",
   "execution_count": null,
   "metadata": {},
   "outputs": [],
   "source": [
    "probs"
   ]
  },
  {
   "cell_type": "code",
   "execution_count": null,
   "metadata": {},
   "outputs": [],
   "source": [
    "np.array([1,2,3]) - 2"
   ]
  },
  {
   "cell_type": "code",
   "execution_count": 13,
   "metadata": {},
   "outputs": [],
   "source": [
    "df.to_excel('Z:/Global strategy team/Personal/Ryan/risk_neutral_option_distributions.xlsx', index=False,sheet_name = f'{chain}{asof}')"
   ]
  },
  {
   "cell_type": "code",
   "execution_count": null,
   "metadata": {},
   "outputs": [],
   "source": []
  }
 ],
 "metadata": {
  "kernelspec": {
   "display_name": "Python 3 (ipykernel)",
   "language": "python",
   "name": "python3"
  },
  "language_info": {
   "codemirror_mode": {
    "name": "ipython",
    "version": 3
   },
   "file_extension": ".py",
   "mimetype": "text/x-python",
   "name": "python",
   "nbconvert_exporter": "python",
   "pygments_lexer": "ipython3",
   "version": "3.10.9"
  }
 },
 "nbformat": 4,
 "nbformat_minor": 2
}
